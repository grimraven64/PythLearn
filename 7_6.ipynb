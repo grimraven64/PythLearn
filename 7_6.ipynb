{
  "nbformat": 4,
  "nbformat_minor": 0,
  "metadata": {
    "colab": {
      "name": "7.6.ipynb",
      "provenance": [],
      "include_colab_link": true
    },
    "kernelspec": {
      "name": "python3",
      "display_name": "Python 3"
    },
    "language_info": {
      "name": "python"
    }
  },
  "cells": [
    {
      "cell_type": "markdown",
      "metadata": {
        "id": "view-in-github",
        "colab_type": "text"
      },
      "source": [
        "<a href=\"https://colab.research.google.com/github/grimraven64/PythLearn/blob/main/7_6.ipynb\" target=\"_parent\"><img src=\"https://colab.research.google.com/assets/colab-badge.svg\" alt=\"Open In Colab\"/></a>"
      ]
    },
    {
      "cell_type": "code",
      "metadata": {
        "id": "Zp4k0gzkSerA",
        "colab": {
          "base_uri": "https://localhost:8080/"
        },
        "outputId": "7d7e8423-7484-4cce-cfaf-faf97fcfb872"
      },
      "source": [
        "def checkNumbers(listNumbers):\n",
        "  for i in listNumbers:\n",
        "    isEven = i%2==0\n",
        "    isDivisibleBy3 = i%3==0\n",
        "    if isEven and not isDivisibleBy3:\n",
        "      print(\"Число \"+str(i)+\" подходит\")\n",
        "    else:\n",
        "      print(\"Число \"+str(i)+\" не подходит\")\n",
        "\n",
        "checkNumbers([114,12,14,10605,4907,450])"
      ],
      "execution_count": 1,
      "outputs": [
        {
          "output_type": "stream",
          "name": "stdout",
          "text": [
            "Число 114 не подходит\n",
            "Число 12 не подходит\n",
            "Число 14 подходит\n",
            "Число 10605 не подходит\n",
            "Число 4907 не подходит\n",
            "Число 450 не подходит\n"
          ]
        }
      ]
    },
    {
      "cell_type": "code",
      "metadata": {
        "id": "HzsYTJ2ISdSh"
      },
      "source": [
        ""
      ],
      "execution_count": null,
      "outputs": []
    },
    {
      "cell_type": "markdown",
      "metadata": {
        "id": "-Tw7xm8UuJqx"
      },
      "source": [
        ""
      ]
    },
    {
      "cell_type": "markdown",
      "metadata": {
        "id": "gAjOEjyrt50G"
      },
      "source": [
        "# Новый раздел"
      ]
    }
  ]
}